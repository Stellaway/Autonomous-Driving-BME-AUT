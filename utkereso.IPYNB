{
 "cells": [
  {
   "cell_type": "markdown",
   "metadata": {},
   "source": [
    "Útkereső"
   ]
  },
  {
   "cell_type": "markdown",
   "metadata": {},
   "source": [
    "    1. Ismerkedés a Pythonnal (1. hét) \n",
    "    (mk1)"
   ]
  },
  {
   "cell_type": "markdown",
   "metadata": {},
   "source": [
    "Az ismerkedés alatt elsősorban a Python alapvető működését, tulajdonságait és szintaktikáját kellett feltérképezni.\n",
    "Az elkészült program az A* grafikus bemutatása 10x10-es rácson tkinter grafikus könyvtár használatával. A pályán tetszőlegesen lehet elhelyezni akadályokat és végpontokat.\n",
    "Ez egyúttal arról is mesél, hogy az első konzultáción a virtuális tér raszterekre osztása mellett döntöttünk.\n",
    "A fejlesztéshez a Python programnyelvet találtuk a legjobbnak. A program működésének szemléltetése grafikusan történi."
   ]
  },
  {
   "cell_type": "markdown",
   "metadata": {},
   "source": [
    "1. Importok"
   ]
  },
  {
   "cell_type": "code",
   "execution_count": null,
   "metadata": {},
   "outputs": [],
   "source": [
    "from tkinter import *\n",
    "import numpy as np\n",
    "import math\n",
    "import heapq"
   ]
  },
  {
   "cell_type": "markdown",
   "metadata": {},
   "source": [
    "2. Használt globális változók.\n",
    "    \n",
    "    Végpontok, akadályok, maga az ablak, a térkép és az azt prezentáló gombokból álló rács."
   ]
  },
  {
   "cell_type": "code",
   "execution_count": null,
   "metadata": {},
   "outputs": [],
   "source": [
    "endpoints = []\n",
    "obstacles = []\n",
    "window = Tk()\n",
    "buttonMap = [[Button(window, height= 5, width=10) for column in range(10)] for row in range(10)]\n",
    "map = [[0 for column in range(10)] for row in range(10)]"
   ]
  },
  {
   "cell_type": "markdown",
   "metadata": {},
   "source": [
    "2. Eseménykezelők.\n",
    "    \n",
    "    Jobb klikkel akadályt balklikkel végpontot helyezünk el, vagy amennyiben megvan a kettő, lefut az útkeresés."
   ]
  },
  {
   "cell_type": "code",
   "execution_count": null,
   "metadata": {},
   "outputs": [],
   "source": [
    "def rightButton_click(event):\n",
    "    event.widget.config(bg ='black')\n",
    "    event.widget[\"state\"] = DISABLED\n",
    "    for i in buttonMap:\n",
    "        if event.widget in i: \n",
    "            obstacles.append((buttonMap.index(i),i.index(event.widget)))\n",
    "            return\n",
    "\n",
    "def addEndpoint(event):\n",
    "    event.widget.config(bg ='blue')\n",
    "    event.widget[\"state\"] = DISABLED\n",
    "    for i in buttonMap:\n",
    "        if event.widget in i: \n",
    "            endpoints.append((buttonMap.index(i),i.index(event.widget)))\n",
    "            return\n",
    "    \n",
    "def leftButton_click(event):\n",
    "    addEndpoint(event)\n",
    "    if len(endpoints) >= 2 :\n",
    "        for i in obstacles:\n",
    "            map[i[0]][i[1]] = 1\n",
    "        path = astar(map, endpoints[0], endpoints[1])\n",
    "        for i in path:\n",
    "            buttonMap[i[0]][i[1]].config(bg ='red')"
   ]
  },
  {
   "cell_type": "markdown",
   "metadata": {},
   "source": [
    "3. Ablakkezelők (tkinter specifikus).\n",
    "    \n",
    "    A gombrácsot képernyőrehelyező függvényt futtatjuk, beállítjuk az ablak címét és elindítjuk a mainloop-ot."
   ]
  },
  {
   "cell_type": "code",
   "execution_count": null,
   "metadata": {},
   "outputs": [],
   "source": [
    "def generateButtons():\n",
    "    for i in range(10):\n",
    "        for j in range(10):\n",
    "            buttonMap[i][j].grid(row = i, column = j)\n",
    "            buttonMap[i][j].bind(\"<Button-3>\", rightButton_click)\n",
    "            buttonMap[i][j].bind(\"<Button-1>\", leftButton_click)\n",
    "\n",
    "generateButtons()\n",
    "\n",
    "window.title(\"A*\")\n",
    "window.mainloop()"
   ]
  },
  {
   "cell_type": "markdown",
   "metadata": {},
   "source": [
    "3. A* és a hozzátartozó heurisztika.\n",
    "    \n",
    "    A heurisztika a légvonalbeli távolságot használja. Az A* a megfigyelések alapján jobb, ha átlókat nem néz. Ennek az az oka, hogy két átlóban elhelyezett akadály bár blokkolja az út teljes egészét a másik irányú átlóban \"átférünk\" közöttük. Tehát ez nem szimulálja megfelelően a valóságot."
   ]
  },
  {
   "cell_type": "code",
   "execution_count": null,
   "metadata": {},
   "outputs": [],
   "source": [
    "def heuristic(actual, end):\n",
    "    return math.sqrt(pow(actual[0]-end[0],2) + pow(actual[1]-end[1],2))\n",
    "\n",
    "def astar(grid, start, goal):\n",
    "    rows, cols = len(grid), len(grid[0])\n",
    "    open_set = [(0, start)]\n",
    "    came_from = {}\n",
    "    g_score = {start: 0}\n",
    "\n",
    "    while open_set:\n",
    "        current_node = heapq.heappop(open_set)[1]\n",
    "\n",
    "        if current_node == goal:\n",
    "            path = []\n",
    "            while current_node in came_from:\n",
    "                path.append(current_node)\n",
    "                current_node = came_from[current_node]\n",
    "            path.append(start)\n",
    "            return path[::-1]\n",
    "\n",
    "        for neighbor in [(1, 0), (0, 1), (-1, 0), (0, -1)]:\n",
    "            neighbor_node = (current_node[0] + neighbor[0], current_node[1] + neighbor[1])\n",
    "            if 0 <= neighbor_node[0] < rows and 0 <= neighbor_node[1] < cols and grid[neighbor_node[0]][neighbor_node[1]] == 0:\n",
    "                buttonMap[neighbor_node[0]][neighbor_node[1]].config(bg ='orange')\n",
    "                tentative_g_score = g_score[current_node] + 1\n",
    "                if neighbor_node not in g_score or tentative_g_score < g_score[neighbor_node]:\n",
    "                    g_score[neighbor_node] = tentative_g_score\n",
    "                    f_score = tentative_g_score + heuristic(neighbor_node, goal)\n",
    "                    heapq.heappush(open_set, (f_score, neighbor_node))\n",
    "                    came_from[neighbor_node] = current_node\n",
    "\n",
    "    return None\n",
    "\n",
    "\n",
    "\n"
   ]
  },
  {
   "cell_type": "markdown",
   "metadata": {},
   "source": [
    "    2. A kanyarívek figyelembe vétele és ívszélesítés (2. hét).\n",
    "    (mk2)"
   ]
  },
  {
   "cell_type": "markdown",
   "metadata": {},
   "source": [
    "Változás: A kanyarokban úgy szélesíti a kereső az ívet, hogy ha van hely a belső íven, akkor befelé vágja a kanyar, ha nincs, akkor kívül szélesíti az ívet.\n",
    "Megállapítás: A módszer sok apró esetrebontást és esetfelismerést igényel. Tehát az ötletet nehéz hatékony és univerzális algoritmussá alakítani."
   ]
  },
  {
   "cell_type": "code",
   "execution_count": null,
   "metadata": {},
   "outputs": [],
   "source": [
    "def astar(grid, start, goal, detect):\n",
    "    rows, cols = len(grid), len(grid[0])\n",
    "    open_set = [(0, start)]\n",
    "    came_from = {}\n",
    "    g_score = {start: 0}\n",
    "\n",
    "    while open_set:\n",
    "        current_node = heapq.heappop(open_set)[1]\n",
    "\n",
    "        if current_node == goal:\n",
    "            path = []\n",
    "            while current_node in came_from:\n",
    "                path.append(current_node)\n",
    "                current_node = came_from[current_node]\n",
    "            path.append(start)\n",
    "            direction = (goal[0]-came_from[goal][0],goal[1]-came_from[goal][1])\n",
    "            current_node = goal\n",
    "            while current_node in came_from:\n",
    "                if(detect):\n",
    "                    try: \n",
    "                        if (came_from[current_node][0]-came_from[came_from[current_node]][0], came_from[current_node][1]-came_from[came_from[current_node]][1]) != direction:\n",
    "                            ndirec = (came_from[current_node][0]-came_from[came_from[current_node]][0], came_from[current_node][1]-came_from[came_from[current_node]][1])\n",
    "                            if (came_from[came_from[current_node]][0]+(direction)[0], came_from[came_from[current_node]][1]+(direction)[1]) in obstacles:\n",
    "                                map[came_from[came_from[current_node]][0]][came_from[came_from[current_node]][1]] = 1\n",
    "                                map[came_from[came_from[current_node]][0]+(direction)[0]+(ndirec)[0]][came_from[came_from[current_node]][1]+(direction)[1]+(ndirec)[1]] = 1\n",
    "                                ##buttonMap[came_from[came_from[current_node]][0]+(direction)[0]+(ndirec)[0]][came_from[came_from[current_node]][1]+(direction)[1]+(ndirec)[1]] .config(text ='!!!')\n",
    "                                path = astar(map,start, goal, False)\n",
    "                                path.append((came_from[came_from[current_node]][0],came_from[came_from[current_node]][1]))\n",
    "                                path.append((came_from[came_from[current_node]][0]+(direction)[0]+(ndirec)[0],came_from[came_from[current_node]][1]+(direction)[1]+(ndirec)[1]) )\n",
    "                            else: \n",
    "                                path.append((came_from[came_from[current_node]][0]+(direction)[0], came_from[came_from[current_node]][1]+(direction)[1]))\n",
    "                            direction = ndirec\n",
    "                    except:\n",
    "                        return path[::-1]\n",
    "                else: path.append(current_node)   \n",
    "                current_node = came_from[current_node]\n",
    "            \n",
    "            return path[::-1]\n",
    "\n",
    "        for neighbor in [(1, 0), (0, 1), (-1, 0), (0, -1)]:\n",
    "            neighbor_node = (current_node[0] + neighbor[0], current_node[1] + neighbor[1])\n",
    "            if 0 <= neighbor_node[0] < rows and 0 <= neighbor_node[1] < cols and grid[neighbor_node[0]][neighbor_node[1]] == 0:\n",
    "                buttonMap[neighbor_node[0]][neighbor_node[1]].config(bg ='orange')\n",
    "                tentative_g_score = g_score[current_node] + 1\n",
    "                if neighbor_node not in g_score or tentative_g_score < g_score[neighbor_node]:\n",
    "                    g_score[neighbor_node] = tentative_g_score\n",
    "                    f_score = tentative_g_score + heuristic(neighbor_node, goal)\n",
    "                    heapq.heappush(open_set, (f_score, neighbor_node))\n",
    "                    came_from[neighbor_node] = current_node\n",
    "\n",
    "    return None"
   ]
  },
  {
   "cell_type": "markdown",
   "metadata": {},
   "source": [
    "Ezután forulókörből számolt kanyarív rajzolást próbáltam tervezni. Ehez a kanyar két vége (bemenet és kimenet) állt rendelkezésre. Ez csak két pont. Egy kör meghatározásához legalább 3 pontra van szükség, így az ötlet még a tervezőasztalon megbukott. Nem került implementálásra."
   ]
  },
  {
   "cell_type": "markdown",
   "metadata": {},
   "source": [
    "    3. Átállás közös és szélesebb körben használható UI könyvtárra és változó méretű map implementálása. (3. hét).\n",
    "    (mk4)"
   ]
  },
  {
   "cell_type": "markdown",
   "metadata": {},
   "source": [
    "1. Importok:"
   ]
  },
  {
   "cell_type": "code",
   "execution_count": null,
   "metadata": {},
   "outputs": [],
   "source": [
    "import pygame\n",
    "import sys\n",
    "import math\n",
    "import heapq"
   ]
  },
  {
   "cell_type": "markdown",
   "metadata": {},
   "source": [
    "2. Pygame specifikus kód:"
   ]
  },
  {
   "cell_type": "code",
   "execution_count": null,
   "metadata": {},
   "outputs": [],
   "source": [
    "# Initialize Pygame\n",
    "pygame.init()\n",
    "# Initialize screen\n",
    "screen = pygame.display.set_mode((SCREEN_WIDTH, SCREEN_HEIGHT))\n",
    "pygame.display.set_caption(\"GUMIGYÁR\")\n",
    "\n",
    "# Initialize font\n",
    "font = pygame.font.Font(None, FONT_SIZE)\n",
    "running = True\n",
    "clock = pygame.time.Clock()\n",
    "pygame.display.flip()\n",
    "clock.tick(30)\n",
    "# Main loop\n",
    "pygame.quit()\n",
    "sys.exit()"
   ]
  },
  {
   "cell_type": "markdown",
   "metadata": {},
   "source": [
    "3. A gameloop:"
   ]
  },
  {
   "cell_type": "code",
   "execution_count": null,
   "metadata": {},
   "outputs": [],
   "source": [
    "while running:\n",
    "    screen.fill(WHITE)\n",
    "    for event in pygame.event.get():\n",
    "        if event.type == pygame.QUIT:\n",
    "            running = False\n",
    "        elif event.type == pygame.KEYDOWN:\n",
    "            if event.key == pygame.K_RETURN:\n",
    "                if is_numeric(input_text1) and is_numeric(input_text2):\n",
    "                    number1 = int(input_text1)\n",
    "                    number2 = int(input_text2)\n",
    "                    grid_map = generate_grid_map(number1, number2)\n",
    "                    generate_grid = True\n",
    "            elif event.key == pygame.K_BACKSPACE:\n",
    "                if active_textbox == 1:\n",
    "                    input_text1 = input_text1[:-1]\n",
    "                elif active_textbox == 2:\n",
    "                    input_text2 = input_text2[:-1]\n",
    "            elif event.key == pygame.K_TAB:\n",
    "                active_textbox = 3 - active_textbox  # Switch between 1 and 2\n",
    "            elif event.unicode.isnumeric():\n",
    "                if active_textbox == 1:\n",
    "                    input_text1 += event.unicode\n",
    "                elif active_textbox == 2:\n",
    "                    input_text2 += event.unicode\n",
    "        elif event.type == pygame.MOUSEBUTTONDOWN:\n",
    "            if button_rect.collidepoint(event.pos):\n",
    "                if is_numeric(input_text1) and is_numeric(input_text2):\n",
    "                    number1 = int(input_text1)\n",
    "                    number2 = int(input_text2)\n",
    "                    grid_map = generate_grid_map(number1, number2)\n",
    "                    generate_grid = True\n",
    "            elif generate_grid:\n",
    "                ##cell_width = (SCREEN_WIDTH - 2 * textbox_margin) // number2\n",
    "                cell_height = (SCREEN_HEIGHT - 3 * textbox_margin - 2 * textbox_height) // number1\n",
    "                cell_width = cell_height\n",
    "                for i in range(number1):\n",
    "                    for j in range(number2):\n",
    "                        cell_rect = pygame.Rect(j * cell_width + textbox_margin, i * cell_height + 2 * textbox_margin, cell_height, cell_height)\n",
    "                        if cell_rect.collidepoint(event.pos):\n",
    "                            if event.button == 1:\n",
    "                                grid_map[i][j] = 2\n",
    "                            elif event.button == 3:\n",
    "                                endpoints.append((i,j))\n",
    "                                grid_map[i][j] = 1 \n",
    "                                if start:\n",
    "                                    path = astar(grid_map, endpoints[0], endpoints[1])\n",
    "                                    for k in path:\n",
    "                                        grid_map[k[0]][k[1]] = 4\n",
    "                                else:\n",
    "                                    start = True\n",
    "\n",
    "    # Render text boxes\n",
    "    pygame.draw.rect(screen, BLACK, textbox_rect1, 2 if active_textbox == 1 else 1)\n",
    "    pygame.draw.rect(screen, BLACK, textbox_rect2, 2 if active_textbox == 2 else 1)\n",
    "\n",
    "    # Render input text 1\n",
    "    text_surface1 = font.render(input_text1, True, TEXT_COLOR)\n",
    "    text_rect1 = text_surface1.get_rect(midleft=(textbox_rect1.left + 5, textbox_rect1.centery))\n",
    "    screen.blit(text_surface1, text_rect1)\n",
    "\n",
    "    # Render input text 2\n",
    "    text_surface2 = font.render(input_text2, True, TEXT_COLOR)\n",
    "    text_rect2 = text_surface2.get_rect(midleft=(textbox_rect2.left + 5, textbox_rect2.centery))\n",
    "    screen.blit(text_surface2, text_rect2)\n",
    "\n",
    "    # Render OK button\n",
    "    pygame.draw.rect(screen, SECONDARY_BLUE if button_rect.collidepoint(pygame.mouse.get_pos()) else PRIMARY_BLUE, button_rect)\n",
    "    button_text = font.render(\"OK\", True, TEXT_COLOR)\n",
    "    button_text_rect = button_text.get_rect(center=button_rect.center)\n",
    "    screen.blit(button_text, button_text_rect)\n",
    "\n",
    "    # Render generated grid\n",
    "    if generate_grid:\n",
    "        ##cell_width = (SCREEN_WIDTH - 2 * textbox_margin) // number2\n",
    "        cell_height = (SCREEN_HEIGHT - 3 * textbox_margin - 2 * textbox_height) // number1\n",
    "        cell_width = cell_height\n",
    "        for i in range(number1):\n",
    "            for j in range(number2):\n",
    "                cell_rect = pygame.Rect(j * cell_width + textbox_margin, i * cell_height + 2 * textbox_margin, cell_width, cell_height)\n",
    "                if grid_map[i][j] == 1:\n",
    "                    pygame.draw.rect(screen, PRIMARY_BLUE, cell_rect)\n",
    "                elif grid_map[i][j] == 2:\n",
    "                    pygame.draw.rect(screen, BLACK, cell_rect)\n",
    "                elif grid_map[i][j] == 3:\n",
    "                    pygame.draw.rect(screen, ORANGE, cell_rect)\n",
    "                elif grid_map[i][j] == 4:\n",
    "                    pygame.draw.rect(screen, RED, cell_rect)\n",
    "                pygame.draw.rect(screen, GREY, cell_rect, 1)"
   ]
  },
  {
   "cell_type": "markdown",
   "metadata": {},
   "source": [
    "4. Konstansok és lehelyezett textboxok változói"
   ]
  },
  {
   "cell_type": "code",
   "execution_count": null,
   "metadata": {},
   "outputs": [],
   "source": [
    "# Constants\n",
    "SCREEN_WIDTH, SCREEN_HEIGHT = 800, 600\n",
    "BLACK = (0, 0, 0)\n",
    "WHITE = (255, 255, 255)\n",
    "GREY = (150, 150, 150)\n",
    "PRIMARY_BLUE = (50, 50, 255)\n",
    "SECONDARY_BLUE = (70, 70, 255)\n",
    "ORANGE = (242, 121, 53)\n",
    "RED = (175, 65, 84)\n",
    "FONT_SIZE = 36\n",
    "TEXT_COLOR = (0, 0, 0)\n",
    "CURSOR_COLOR = (0, 0, 0)\n",
    "\n",
    "# Text box properties\n",
    "textbox_width = 150\n",
    "textbox_height = 40\n",
    "textbox_margin = 5\n",
    "textbox_rect1 = pygame.Rect((SCREEN_WIDTH - 3 * textbox_width - 2 * textbox_margin) // 2, SCREEN_HEIGHT - textbox_height - textbox_margin, textbox_width, textbox_height)\n",
    "textbox_rect2 = pygame.Rect(textbox_rect1.right + textbox_margin, SCREEN_HEIGHT - textbox_height - textbox_margin, textbox_width, textbox_height)\n",
    "button_rect = pygame.Rect(textbox_rect2.right + textbox_margin, SCREEN_HEIGHT - textbox_height - textbox_margin, textbox_width, textbox_height)\n",
    "input_text1 = \"\"\n",
    "input_text2 = \"\"\n",
    "cursor_blink_timer = 0\n",
    "cursor_visible = True\n",
    "active_textbox = 1\n",
    "generate_grid = False"
   ]
  },
  {
   "cell_type": "markdown",
   "metadata": {},
   "source": [
    "5. Segédfüggvény és a már ismert funkcionalitás kódja:"
   ]
  },
  {
   "cell_type": "code",
   "execution_count": null,
   "metadata": {},
   "outputs": [],
   "source": [
    "def is_numeric(text):\n",
    "    try:\n",
    "        int(text)\n",
    "        return True\n",
    "    except ValueError:\n",
    "        return False\n",
    "\n",
    "def generate_grid_map(value1, value2):\n",
    "    return [[0 for _ in range(value2)] for _ in range(value1)]\n",
    "\n",
    "def heuristic(actual, end):\n",
    "    return math.sqrt(pow(actual[0]-end[0],2) + pow(actual[1]-end[1],2))\n",
    "\n",
    "def astar(grid, start, goal):\n",
    "    rows, cols = len(grid), len(grid[0])\n",
    "    open_set = [(0, start)]\n",
    "    came_from = {}\n",
    "    g_score = {start: 0}\n",
    "\n",
    "    while open_set:\n",
    "        current_node = heapq.heappop(open_set)[1]\n",
    "        if current_node == goal:\n",
    "            path = []\n",
    "            while current_node in came_from:\n",
    "                path.append(current_node)\n",
    "                current_node = came_from[current_node]\n",
    "            path.append(start)\n",
    "            return path[::-1]\n",
    "\n",
    "        for neighbor in [(1, 0), (0, 1), (-1, 0), (0, -1)]:\n",
    "            neighbor_node = (current_node[0] + neighbor[0], current_node[1] + neighbor[1])\n",
    "            if 0 <= neighbor_node[0] < rows and 0 <= neighbor_node[1] < cols and grid[neighbor_node[0]][neighbor_node[1]] != 2:\n",
    "                grid[neighbor_node[0]][neighbor_node[1]] = 3\n",
    "                tentative_g_score = g_score[current_node] + 1\n",
    "                if neighbor_node not in g_score or tentative_g_score < g_score[neighbor_node]:\n",
    "                    g_score[neighbor_node] = tentative_g_score\n",
    "                    f_score = tentative_g_score + heuristic(neighbor_node, goal)\n",
    "                    heapq.heappush(open_set, (f_score, neighbor_node))\n",
    "                    came_from[neighbor_node] = current_node\n",
    "\n",
    "    return None\n",
    "\n",
    "# Initialize grid variables\n",
    "number1, number2 = 0, 0\n",
    "grid_map = generate_grid_map(number1, number2)\n",
    "start = False\n",
    "\n",
    "endpoints = []"
   ]
  },
  {
   "cell_type": "markdown",
   "metadata": {},
   "source": [
    "    4. A jármű ívének meghatározása szabad formájú görbével (Catmull-Rom Spline) (4. hét)\n",
    "    (mk5 - mk8)"
   ]
  },
  {
   "cell_type": "markdown",
   "metadata": {},
   "source": [
    "Ez a görbe teljesen irányítható a megfelelő pozíciójú és mennyiségű kontrollpontok megválasztásával.\n",
    "Az alapötlet az, hogy az útvonalon végigmegyünk és minden irányváltás esetén lehelyezünk egy kontrollpontot."
   ]
  },
  {
   "cell_type": "markdown",
   "metadata": {},
   "source": [
    "1. Maga a görbe generálása:"
   ]
  },
  {
   "cell_type": "code",
   "execution_count": null,
   "metadata": {},
   "outputs": [],
   "source": [
    "def draw_catmull_rom_spline(control_points, alpha=0.5):\n",
    "    spline_points = []\n",
    "    control_points = [control_points[0]] + control_points + [control_points[-1]]  # Repeat last two points\n",
    "    for i in range(1, len(control_points) - 2):\n",
    "        for t in np.linspace(0, 1, 100):\n",
    "            spline_point = catmull_rom_spline(\n",
    "                control_points[i - 1],\n",
    "                control_points[i],\n",
    "                control_points[i + 1],\n",
    "                control_points[i + 2],\n",
    "                t,\n",
    "                alpha\n",
    "            )\n",
    "            spline_points.append(spline_point)\n",
    "\n",
    "    spline_points = np.array(spline_points)\n",
    "\n",
    "    for point in spline_points:\n",
    "        pygame.draw.circle(screen, WHITE, (int(point[0]), int(point[1])), 2)\n",
    "\n",
    "def catmull_rom_spline(p0, p1, p2, p3, t, alpha=0.5):\n",
    "    t2 = t * t\n",
    "    t3 = t2 * t\n",
    "\n",
    "    x = 0.5 * (\n",
    "        (2 * p1[0]) +\n",
    "        (-p0[0] + p2[0]) * t +\n",
    "        (2 * p0[0] - 5 * p1[0] + 4 * p2[0] - p3[0]) * t2 +\n",
    "        (-p0[0] + 3 * p1[0] - 3 * p2[0] + p3[0]) * t3\n",
    "    )\n",
    "\n",
    "    y = 0.5 * (\n",
    "        (2 * p1[1]) +\n",
    "        (-p0[1] + p2[1]) * t +\n",
    "        (2 * p0[1] - 5 * p1[1] + 4 * p2[1] - p3[1]) * t2 +\n",
    "        (-p0[1] + 3 * p1[1] - 3 * p2[1] + p3[1]) * t3\n",
    "    )\n",
    "\n",
    "    return x, y"
   ]
  },
  {
   "cell_type": "markdown",
   "metadata": {},
   "source": [
    "2. Az irányváltások detektálása és kontrollpontok kiszámítása:"
   ]
  },
  {
   "cell_type": "code",
   "execution_count": null,
   "metadata": {},
   "outputs": [],
   "source": [
    "if start:\n",
    "    path = astar(grid_map, endpoints[0], endpoints[1])\n",
    "    step1 = False\n",
    "    direction = (path[1][0]-path[0][0], path[1][1]-path[0][1])\n",
    "    newDirection = direction\n",
    "    actual = path[0]\n",
    "    control_points.append((actual[1]*cell_height+0.5*cell_height+textbox_margin,actual[0]*cell_height+0.5*cell_height+textbox_margin))\n",
    "    for i in range(0,len(path)):\n",
    "        grid_map[path[i][0]][path[i][1]] = 4\n",
    "        if i != 0: newDirection = (path[i][0]-path[i-1][0], path[i][1]-path[i-1][1])\n",
    "        if(direction != newDirection):\n",
    "            direction = newDirection\n",
    "            control_points.append((actual[1]*cell_height+0.5*cell_height+textbox_margin,actual[0]*cell_height+0.5*cell_height+textbox_margin))\n",
    "        actual = path[i]\n",
    "    control_points.append((path[-1][1]*cell_height+0.5*cell_height,path[-1][0]*cell_height+0.5*cell_height+textbox_margin))"
   ]
  },
  {
   "cell_type": "markdown",
   "metadata": {},
   "source": [
    "3. A körbe és kontroll pontjaik kirajzolása:"
   ]
  },
  {
   "cell_type": "code",
   "execution_count": null,
   "metadata": {},
   "outputs": [],
   "source": [
    "# Draw Catmull-Rom spline\n",
    "if drawing_spline and len(control_points) >= 2:     \n",
    "    draw_catmull_rom_spline(control_points, alpha=0)\n",
    "for point in control_points:\n",
    "    pygame.draw.circle(screen, SECONDARY_BLUE, point, 5)  "
   ]
  },
  {
   "cell_type": "markdown",
   "metadata": {},
   "source": [
    "Tapasztalat: Az átlós lépések hiányát az A* lépcsőzetes alakú útvonallal pótolja. Egy ilyen lépcsőzetes alak minden mezőjében irányváltás történik. Ez a görbébe rengeteg apró kanyart és túl sok kontroll pontot generál. A normál kanyarokban sem túl jó a görbe formája."
   ]
  },
  {
   "cell_type": "markdown",
   "metadata": {},
   "source": [
    "4. A görbe kisimítása:"
   ]
  },
  {
   "cell_type": "markdown",
   "metadata": {},
   "source": [
    "Az algoritmus a görbe rajzolása előtt fut. Miután a kontrollpontokat lerajzoltuk végigfuttatjuk az alábbi simító függvényt. Ha egymás után talál több kontrollpontot, akkor kitörli őket és helyettük a sor végére tesz 1 darab kontrollpontot."
   ]
  },
  {
   "cell_type": "code",
   "execution_count": null,
   "metadata": {},
   "outputs": [],
   "source": [
    "def convert_to_main_coordinate(value,cell_height):\n",
    "    return (value[1]*cell_height+0.5*cell_height+textbox_margin,value[0]*cell_height+0.5*cell_height+textbox_margin*2)\n",
    "\n",
    "def control_point_smoothing(path, cell_height):\n",
    "    for i in range(0,len(path)-2):\n",
    "        if convert_to_main_coordinate(path[i], cell_height) in control_points:\n",
    "            control_index = control_points.index(convert_to_main_coordinate(path[i], cell_height))\n",
    "            if convert_to_main_coordinate(path[i+1], cell_height) in control_points and convert_to_main_coordinate(path[i+2], cell_height):\n",
    "                j = i+1\n",
    "                while convert_to_main_coordinate(path[j], cell_height) in control_points and j < len(path)-1:\n",
    "                    control_points.remove(convert_to_main_coordinate(path[j], cell_height))\n",
    "                    j+=1\n",
    "                if j <len(path)-2:\n",
    "                    control_points.insert(control_index+1, convert_to_main_coordinate(path[j], cell_height))\n",
    "            elif convert_to_main_coordinate(path[i+1], cell_height) in control_points:\n",
    "                control_points.remove(convert_to_main_coordinate(path[j], cell_height))\n",
    "                control_points.insert(control_index+1, convert_to_main_coordinate(path[i+2], cell_height))"
   ]
  },
  {
   "cell_type": "markdown",
   "metadata": {},
   "source": [
    "Tapasztalat: A kanyarok szebbek lettek, a cikk-cakkos átlók pedig simák lettek, ahogy az meg lett tervezve."
   ]
  },
  {
   "cell_type": "markdown",
   "metadata": {},
   "source": [
    "Új célok: A jármű szélességének figyelembe vétele az ív rajzolásánál, a kanyarok akadálykerülésének biztosítása és a minimális fordulókör figyelembevétele az útvonaltervezésnél. A görbe mindezek megoldására alkalmas, mindössze a megfelelő algoritmusok hiányoznak."
   ]
  },
  {
   "cell_type": "markdown",
   "metadata": {},
   "source": [
    "5. A kód rendezése és dokumentálása:"
   ]
  },
  {
   "cell_type": "markdown",
   "metadata": {},
   "source": [
    "Az importok nem változtak. A program viszont osztályokra lett bontva a fejleszthetőség és átláthatóság érdekében. Eközben számos apróbb hiba került javításra."
   ]
  },
  {
   "cell_type": "markdown",
   "metadata": {},
   "source": [
    "Osztályok:"
   ]
  },
  {
   "cell_type": "markdown",
   "metadata": {},
   "source": [
    "Maga az útvonalkereső. Továbbra is változatlan."
   ]
  },
  {
   "cell_type": "code",
   "execution_count": null,
   "metadata": {},
   "outputs": [],
   "source": [
    "class PathFinder:\n",
    "    def heuristic(self, actual, end):\n",
    "        return math.sqrt(pow(actual[0]-end[0],2) + pow(actual[1]-end[1],2))\n",
    "\n",
    "    def astar(self, grid, start, goal):\n",
    "        rows, cols = len(grid), len(grid[0])\n",
    "        open_set = [(0, start)]\n",
    "        came_from = {}\n",
    "        g_score = {start: 0}\n",
    "\n",
    "        while open_set:\n",
    "            current_node = heapq.heappop(open_set)[1]\n",
    "            if current_node == goal:\n",
    "                path = []\n",
    "                while current_node in came_from:\n",
    "                    path.append(current_node)\n",
    "                    current_node = came_from[current_node]\n",
    "                path.append(start)\n",
    "                return path[::-1]\n",
    "\n",
    "            for neighbor in [(1, 0), (0, 1), (-1, 0), (0, -1)]:\n",
    "                neighbor_node = (current_node[0] + neighbor[0], current_node[1] + neighbor[1])\n",
    "                if 0 <= neighbor_node[0] < rows and 0 <= neighbor_node[1] < cols and grid[neighbor_node[0]][neighbor_node[1]] != 2:\n",
    "                    grid[neighbor_node[0]][neighbor_node[1]] = 3\n",
    "                    tentative_g_score = g_score[current_node] + 1\n",
    "                    if neighbor_node not in g_score or tentative_g_score < g_score[neighbor_node]:\n",
    "                        g_score[neighbor_node] = tentative_g_score\n",
    "                        f_score = tentative_g_score + self.heuristic(neighbor_node, goal)\n",
    "                        heapq.heappush(open_set, (f_score, neighbor_node))\n",
    "                        came_from[neighbor_node] = current_node\n",
    "\n",
    "        return None"
   ]
  },
  {
   "cell_type": "markdown",
   "metadata": {},
   "source": [
    "A Görberajzoló: végigköveti a teljes utat, megtervezi a kontroll pontokat, végrehajtja a simító algoritmust és legenerálja valamint eltárolja a görbe vonalát. A kirajzolást is maga végzi, de meg kell hozzá hívni a célra szánt metódusát."
   ]
  },
  {
   "cell_type": "code",
   "execution_count": null,
   "metadata": {},
   "outputs": [],
   "source": [
    "class PathSpline:\n",
    "    control_points = []\n",
    "    spline_points = []\n",
    "    def convert_to_main_coordinate(self, value,cell_height):\n",
    "        return (value[1]*cell_height+0.5*cell_height+gui.textbox_margin,value[0]*cell_height+0.5*cell_height+gui.textbox_margin*2)\n",
    "\n",
    "    def control_point_smoothing(self, path, cell_height):\n",
    "        for i in range(0,len(path)-2):\n",
    "            if self.convert_to_main_coordinate(path[i], cell_height) in self.control_points:\n",
    "                control_index = self.control_points.index(self.convert_to_main_coordinate(path[i], cell_height))\n",
    "                if self.convert_to_main_coordinate(path[i+1], cell_height) in self.control_points and self.convert_to_main_coordinate(path[i+2], cell_height):\n",
    "                    j = i+1\n",
    "                    while self.convert_to_main_coordinate(path[j], cell_height) in self.control_points and j < len(path)-1:\n",
    "                        self.control_points.remove(self.convert_to_main_coordinate(path[j], cell_height))\n",
    "                        j+=1\n",
    "                    if j <len(path)-2:\n",
    "                        self.control_points.insert(control_index+1, self.convert_to_main_coordinate(path[j], cell_height))\n",
    "                elif self.convert_to_main_coordinate(path[i+1], cell_height) in self.control_points:\n",
    "                    self.control_points.remove(self.convert_to_main_coordinate(path[j], cell_height))\n",
    "                    self.control_points.insert(control_index+1, self.convert_to_main_coordinate(path[i+2], cell_height))\n",
    "\n",
    "    def create_catmull_rom_spline(self):\n",
    "        self.control_points = [self.control_points[0]] + self.control_points + [self.control_points[-1]]\n",
    "        for i in range(1, len(self.control_points) - 2):\n",
    "            for t in np.linspace(0, 1, 100):\n",
    "                self.spline_point = self.catmull_rom_spline(self.control_points[i - 1], self.control_points[i], self.control_points[i + 1],  self.control_points[i + 2], t)\n",
    "                self.spline_points.append(self.spline_point)\n",
    "        self.spline_points = np.array(self.spline_points)\n",
    "\n",
    "    def drawSpline(self):\n",
    "        for point in self.spline_points:\n",
    "            pygame.draw.circle(gui.screen, Constants.WHITE, (int(point[0]), int(point[1])), 2)\n",
    "        for point in self.control_points:\n",
    "            pygame.draw.circle(gui.screen, Constants.SECONDARY_BLUE, point, 5)\n",
    "\n",
    "    # Catmull-Rom spline interpolation function\n",
    "    def catmull_rom_spline(self, p0, p1, p2, p3, t):\n",
    "        t2 = t * t\n",
    "        t3 = t2 * t\n",
    "        return 0.5 * ((2 * p1[0]) + (-p0[0] + p2[0]) * t + (2 * p0[0] - 5 * p1[0] + 4 * p2[0] - p3[0]) * t2 + (-p0[0] + 3 * p1[0] - 3 * p2[0] + p3[0]) * t3), 0.5 * ((2 * p1[1]) +(-p0[1] + p2[1]) * t +(2 * p0[1] - 5 * p1[1] + 4 * p2[1] - p3[1]) * t2 +(-p0[1] + 3 * p1[1] - 3 * p2[1] + p3[1]) * t3)\n",
    "    \n",
    "    def setupSpline(self):\n",
    "        path = pf.astar(gui.grid_map, gui.endpoints[0], gui.endpoints[1])\n",
    "        direction = (path[1][0]-path[0][0], path[1][1]-path[0][1])\n",
    "        newDirection = direction\n",
    "        actual = path[0] \n",
    "        self.control_points.append(self.convert_to_main_coordinate(actual, gui.cell_height))\n",
    "        for i in range(0,len(path)):\n",
    "            gui.grid_map[path[i][0]][path[i][1]] = 4\n",
    "            if i != 0: \n",
    "                newDirection = (path[i][0]-path[i-1][0], path[i][1]-path[i-1][1])\n",
    "            if(direction != newDirection):\n",
    "                direction = newDirection\n",
    "                self.control_points.append(self.convert_to_main_coordinate(actual, gui.cell_height))\n",
    "            actual = path[i]\n",
    "        self.control_points.append(self.convert_to_main_coordinate(path[-1], gui.cell_height))\n",
    "        self.control_point_smoothing(path, gui.cell_height)\n",
    "        self.create_catmull_rom_spline()"
   ]
  },
  {
   "cell_type": "markdown",
   "metadata": {},
   "source": [
    "Konstansok amelyek a programban vannak használatban."
   ]
  },
  {
   "cell_type": "code",
   "execution_count": null,
   "metadata": {},
   "outputs": [],
   "source": [
    "class Constants:\n",
    "    SCREEN_WIDTH, SCREEN_HEIGHT = 800, 600\n",
    "    BLACK = (0, 0, 0)\n",
    "    WHITE = (255, 255, 255)\n",
    "    GREY = (150, 150, 150)\n",
    "    PRIMARY_BLUE = (50, 50, 255)\n",
    "    SECONDARY_BLUE = (70, 70, 255)\n",
    "    ORANGE = (242, 121, 53)\n",
    "    RED = (175, 65, 84)\n",
    "    GREEN = (0, 66, 37)\n",
    "    FONT_SIZE = 36\n",
    "    TEXT_COLOR = (0, 0, 0)\n",
    "    CURSOR_COLOR = (0, 0, 0)"
   ]
  },
  {
   "cell_type": "markdown",
   "metadata": {},
   "source": [
    "A felület és a rács kezeléséért felelős osztály. A rács maga nem kapott külön osztályt, emiatt ez az osztály a legnagyobb. Felbontása megfontolandó."
   ]
  },
  {
   "cell_type": "code",
   "execution_count": null,
   "metadata": {},
   "outputs": [],
   "source": [
    "class GUI:\n",
    "    textbox_width = 150\n",
    "    textbox_height = 40\n",
    "    textbox_margin = 5\n",
    "    textbox_rect1 = pygame.Rect((Constants.SCREEN_WIDTH - 3 * textbox_width - 2 * textbox_margin) // 2, Constants.SCREEN_HEIGHT - textbox_height - textbox_margin, textbox_width, textbox_height)\n",
    "    textbox_rect2 = pygame.Rect(textbox_rect1.right + textbox_margin, Constants.SCREEN_HEIGHT - textbox_height - textbox_margin, textbox_width, textbox_height)\n",
    "    button_rect = pygame.Rect(textbox_rect2.right + textbox_margin, Constants.SCREEN_HEIGHT - textbox_height - textbox_margin, textbox_width, textbox_height)\n",
    "    input_text1 = \"\"\n",
    "    input_text2 = \"\"\n",
    "    cursor_blink_timer = 0\n",
    "    cursor_visible = True\n",
    "    active_textbox = 1\n",
    "    generate_grid = False\n",
    "    cell_height = None\n",
    "    font = pygame.font.Font(None, Constants.FONT_SIZE)\n",
    "    screen = pygame.display.set_mode((Constants.SCREEN_WIDTH, Constants.SCREEN_HEIGHT))\n",
    "    drawing_spline = False\n",
    "    number1 = 20\n",
    "    number2 = 30\n",
    "    grid_map = None\n",
    "    endpoints = []\n",
    "    def drawComponents(self):\n",
    "        self.drawControls()\n",
    "        if self.generate_grid:\n",
    "            self.drawGrid()\n",
    "    def generate_grid_map(self, value1, value2):\n",
    "        return [[0 for _ in range(value2)] for _ in range(value1)]\n",
    "    def drawControls(self):\n",
    "        pygame.draw.rect(self.screen, Constants.BLACK, self.textbox_rect1, 2 if self.active_textbox == 1 else 1)\n",
    "        pygame.draw.rect(self.screen, Constants.BLACK, self.textbox_rect2, 2 if self.active_textbox == 2 else 1)\n",
    "        # Render input text 1\n",
    "        text_surface1 = self.font.render(self.input_text1, True, Constants.TEXT_COLOR)\n",
    "        text_rect1 = text_surface1.get_rect(midleft=(self.textbox_rect1.left + 5, self.textbox_rect1.centery))\n",
    "        self.screen.blit(text_surface1, text_rect1)\n",
    "        # Render input text 2\n",
    "        text_surface2 = self.font.render(self.input_text2, True, Constants.TEXT_COLOR)\n",
    "        text_rect2 = text_surface2.get_rect(midleft=(self.textbox_rect2.left + 5, self.textbox_rect2.centery))\n",
    "        self.screen.blit(text_surface2, text_rect2)\n",
    "        # Render OK button\n",
    "        pygame.draw.rect(self.screen, Constants.SECONDARY_BLUE if self.button_rect.collidepoint(pygame.mouse.get_pos()) else Constants.PRIMARY_BLUE, self.button_rect)\n",
    "        button_text = self.font.render(\"OK\", True, Constants.TEXT_COLOR)\n",
    "        button_text_rect = button_text.get_rect(center=self.button_rect.center)\n",
    "        self.screen.blit(button_text, button_text_rect)\n",
    "\n",
    "    def drawGrid(self):\n",
    "        for i in range(self.number1):\n",
    "            for j in range(self.number2):\n",
    "                cell_rect = pygame.Rect(j * self.cell_height + self.textbox_margin, i * self.cell_height + 2 * self.textbox_margin, self.cell_height, self.cell_height)\n",
    "                if self.grid_map[i][j] == 1:\n",
    "                    pygame.draw.rect(self.screen, Constants.PRIMARY_BLUE, cell_rect)\n",
    "                elif self.grid_map[i][j] == 2:\n",
    "                    pygame.draw.rect(self.screen, Constants.BLACK, cell_rect)\n",
    "                elif self.grid_map[i][j] == 3:\n",
    "                    pygame.draw.rect(self.screen, Constants.ORANGE, cell_rect)\n",
    "                elif self.grid_map[i][j] == 4:\n",
    "                    pygame.draw.rect(self.screen, Constants.RED, cell_rect)\n",
    "                pygame.draw.rect(self.screen, Constants.GREY, cell_rect, 1)\n",
    "    \n",
    "    def setupGrid(self):      \n",
    "        if self.is_numeric(self.input_text1) and self.is_numeric(self.input_text2):\n",
    "            self.number1 = int(self.input_text1)\n",
    "            self.number2 = int(self.input_text2)\n",
    "            self.grid_map = self.generate_grid_map(self.number1, self.number2)\n",
    "            self.generate_grid = True\n",
    "            self.cell_height = (Constants.SCREEN_HEIGHT - 3 * self.textbox_margin - 2 * self.textbox_height)// self.number1\n",
    "            return True\n",
    "        return False\n",
    "    \n",
    "    def is_numeric(self,text):\n",
    "        try:\n",
    "            int(text)\n",
    "            return True\n",
    "        except ValueError:\n",
    "            return False\n",
    "\n",
    "    def okButtonPress(self):\n",
    "        return self.setupGrid()\n",
    "    \n",
    "    def handleKeyDown(self):\n",
    "        if event.key == pygame.K_TAB:\n",
    "                    self.active_textbox = 3 - self.active_textbox\n",
    "        elif event.key == pygame.K_RETURN:\n",
    "            return self.setupGrid()\n",
    "        elif event.key == pygame.K_BACKSPACE:\n",
    "            if self.active_textbox == 1:\n",
    "                self.input_text1 = self.input_text1[:-1]\n",
    "            elif self.active_textbox == 2:\n",
    "                self.input_text2 = self.input_text2[:-1]\n",
    "        elif event.unicode.isnumeric():\n",
    "            if self.active_textbox == 1:\n",
    "                self.input_text1 += event.unicode\n",
    "            elif self.active_textbox == 2:\n",
    "                self.input_text2 += event.unicode\n",
    "        return False\n",
    "    \n",
    "    def handleClick(self):\n",
    "        for i in range(self.number1):\n",
    "            for j in range(self.number2):\n",
    "                cell_rect = pygame.Rect(j * self.cell_height + self.textbox_margin, i * self.cell_height + 2 * self.textbox_margin, self.cell_height, self.cell_height)\n",
    "                if cell_rect.collidepoint(event.pos):\n",
    "                    if event.button == 1:\n",
    "                        self.grid_map[i][j] = 2\n",
    "                        return False\n",
    "                    elif event.button == 3:\n",
    "                        self.endpoints.append((i,j))\n",
    "                        self.grid_map[i][j] = 1 \n",
    "                        return True\n",
    "        return False"
   ]
  },
  {
   "cell_type": "markdown",
   "metadata": {},
   "source": [
    "A jármű osztálya. A görbe mentén halad végig. Fordul mindig a görbe irányvektora felé. Appró hiba, hogy a kontroll pontoknál a C1 folytonosság miatt a derivált 0, így az elfordulás szöge is 0 lesz egy pillanatig. A jármű ekkor váratlanul iránytvált, de a következő pontra lépve természetesen megjavul."
   ]
  },
  {
   "cell_type": "code",
   "execution_count": null,
   "metadata": {},
   "outputs": [],
   "source": [
    "class Vehicle:\n",
    "    # Car properties\n",
    "    move_interval = 1 \n",
    "    model = None\n",
    "    position = 0\n",
    "    angle = 0\n",
    "    \n",
    "    def blitRotate(self,surf, image, pos, originPos, angle):\n",
    "        image_rect = image.get_rect(topleft = (pos[0] - originPos[0], pos[1]-originPos[1]))\n",
    "        offset_center_to_pivot = pygame.math.Vector2(pos) - image_rect.center\n",
    "        rotated_offset = offset_center_to_pivot.rotate(-angle)\n",
    "        rotated_image_center = (pos[0] - rotated_offset.x, pos[1] - rotated_offset.y)\n",
    "        rotated_image = pygame.transform.rotate(image, angle)\n",
    "        rotated_image_rect = rotated_image.get_rect(center = rotated_image_center)\n",
    "        surf.blit(rotated_image, rotated_image_rect)\n",
    "        \n",
    "    def drawVehicle(self):\n",
    "        if len(spline.spline_points)-1 <= self.position:\n",
    "            self.position = 0\n",
    "        if pygame.time.get_ticks() % self.move_interval == 0:\n",
    "            vector = (spline.spline_points[self.position][0] - spline.spline_points[self.position+1][0], spline.spline_points[self.position][1] - spline.spline_points[self.position+1][1])\n",
    "            self.blitRotate(gui.screen, self.model, (spline.spline_points[self.position][0], spline.spline_points[self.position][1]), (self.model.get_width()/2, self.model.get_height()/2), -math.degrees(math.atan2(vector[1], vector[0])))\n",
    "            gui.screen.blit(self.model, (1, 1))\n",
    "            self.position += 1\n",
    "            pygame.draw.rect(self.model, (0, 233, 0), (1, 1, self.model.get_width(), self.model.get_height())) "
   ]
  },
  {
   "cell_type": "markdown",
   "metadata": {},
   "source": [
    "A felbontásnak köszönhetően a main loop egyszerűsödött."
   ]
  },
  {
   "cell_type": "code",
   "execution_count": null,
   "metadata": {},
   "outputs": [],
   "source": [
    "# Main loop\n",
    "running = True\n",
    "clock = pygame.time.Clock()\n",
    "step = 0\n",
    "spline = PathSpline()\n",
    "pf = PathFinder()\n",
    "gui = GUI()\n",
    "vehicle = Vehicle()\n",
    "while running:\n",
    "    gui.screen.fill(Constants.WHITE)\n",
    "    for event in pygame.event.get():\n",
    "        if event.type == pygame.QUIT:\n",
    "            running = False\n",
    "        elif step == 0:\n",
    "            if event.type == pygame.KEYDOWN:\n",
    "                if gui.handleKeyDown():\n",
    "                    step = 1\n",
    "            elif event.type == pygame.MOUSEBUTTONDOWN:\n",
    "                if gui.button_rect.collidepoint(event.pos):\n",
    "                    if gui.okButtonPress():\n",
    "                        step = 1\n",
    "        elif step == 1 or step == 2:\n",
    "            if event.type == pygame.MOUSEBUTTONDOWN:\n",
    "                vehicle.model = pygame.Surface((gui.cell_height, gui.cell_height/2), pygame.SRCALPHA)\n",
    "                if gui.handleClick():\n",
    "                    step+=1\n",
    "                if step == 3: \n",
    "                    spline.setupSpline()\n",
    "    gui.drawComponents()\n",
    "    if step == 3: \n",
    "        spline.drawSpline()\n",
    "        vehicle.drawVehicle()\n",
    "    pygame.display.flip()\n",
    "    clock.tick(120)\n",
    "    \n",
    "pygame.quit()\n",
    "sys.exit()"
   ]
  }
 ],
 "metadata": {
  "kernelspec": {
   "display_name": "Python 3",
   "language": "python",
   "name": "python3"
  },
  "language_info": {
   "codemirror_mode": {
    "name": "ipython",
    "version": 3
   },
   "file_extension": ".py",
   "mimetype": "text/x-python",
   "name": "python",
   "nbconvert_exporter": "python",
   "pygments_lexer": "ipython3",
   "version": "3.12.0"
  }
 },
 "nbformat": 4,
 "nbformat_minor": 2
}
